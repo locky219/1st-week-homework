{
 "cells": [
  {
   "cell_type": "code",
   "execution_count": 1,
   "id": "bf8f20a2-5259-42b6-bc63-06eb188baaf3",
   "metadata": {},
   "outputs": [
    {
     "name": "stdout",
     "output_type": "stream",
     "text": [
      "100\n",
      "100\n",
      "100\n",
      "50+50\n"
     ]
    }
   ],
   "source": [
    "#1번\n",
    "print('100')\n",
    "print(100)\n",
    "print(50+50)\n",
    "print('50+50')"
   ]
  },
  {
   "cell_type": "code",
   "execution_count": 2,
   "id": "a593584b-409a-4e0b-b094-92a69bbabbb4",
   "metadata": {},
   "outputs": [
    {
     "name": "stdout",
     "output_type": "stream",
     "text": [
      "5 / 10 = 0\n"
     ]
    }
   ],
   "source": [
    "#2번\n",
    "print('%d / %d = %d' % (5, 10, 5/10))"
   ]
  },
  {
   "cell_type": "code",
   "execution_count": 3,
   "id": "982b51ca-e0a2-4230-a3e5-38aac3bfc370",
   "metadata": {},
   "outputs": [
    {
     "name": "stdout",
     "output_type": "stream",
     "text": [
      "0867\n",
      "CookBook\n",
      "123.5\n"
     ]
    }
   ],
   "source": [
    "#3번\n",
    "print('%04d'%867)\n",
    "print('%5s'%'CookBook')\n",
    "print('%1.1f'%123.45)"
   ]
  },
  {
   "cell_type": "code",
   "execution_count": 4,
   "id": "ab5d00da-1543-4c62-9016-fb8b3a6d31fc",
   "metadata": {},
   "outputs": [
    {
     "name": "stdout",
     "output_type": "stream",
     "text": [
      "333111222\n"
     ]
    }
   ],
   "source": [
    "#4번\n",
    "print('{2:d}{0:d}{1:d}'.format(111, 222, 333))"
   ]
  },
  {
   "cell_type": "code",
   "execution_count": 5,
   "id": "641929c4-31e0-481e-8a27-965979240233",
   "metadata": {},
   "outputs": [
    {
     "name": "stdout",
     "output_type": "stream",
     "text": [
      "11\n",
      "26\n"
     ]
    }
   ],
   "source": [
    "#11번\n",
    "Num = '1011'\n",
    "t = int(Num, 2)\n",
    "print(t)\n",
    "\n",
    "Num = '1A'\n",
    "t = int(Num, 16)\n",
    "print(t)"
   ]
  },
  {
   "cell_type": "code",
   "execution_count": 6,
   "id": "837e6654-e6ec-4fd5-8a37-28434e8ce632",
   "metadata": {},
   "outputs": [
    {
     "ename": "ValueError",
     "evalue": "invalid literal for int() with base 2: '1002'",
     "output_type": "error",
     "traceback": [
      "\u001b[0;31m---------------------------------------------------------------------------\u001b[0m",
      "\u001b[0;31mValueError\u001b[0m                                Traceback (most recent call last)",
      "Cell \u001b[0;32mIn[6], line 2\u001b[0m\n\u001b[1;32m      1\u001b[0m \u001b[38;5;66;03m#13번\u001b[39;00m\n\u001b[0;32m----> 2\u001b[0m \u001b[38;5;28mprint\u001b[39m(\u001b[38;5;28;43mint\u001b[39;49m\u001b[43m(\u001b[49m\u001b[38;5;124;43m'\u001b[39;49m\u001b[38;5;124;43m1002\u001b[39;49m\u001b[38;5;124;43m'\u001b[39;49m\u001b[43m,\u001b[49m\u001b[43m \u001b[49m\u001b[38;5;241;43m2\u001b[39;49m\u001b[43m)\u001b[49m) \u001b[38;5;66;03m# 2진법에 2가 들어갈 수 없음\u001b[39;00m\n\u001b[1;32m      3\u001b[0m \u001b[38;5;28mprint\u001b[39m(\u001b[38;5;28mint\u001b[39m(\u001b[38;5;124m'\u001b[39m\u001b[38;5;124m1008\u001b[39m\u001b[38;5;124m'\u001b[39m, \u001b[38;5;241m8\u001b[39m)) \u001b[38;5;66;03m# 8진법에 8이 들어갈 수 없음\u001b[39;00m\n\u001b[1;32m      4\u001b[0m \u001b[38;5;28mprint\u001b[39m(\u001b[38;5;28mint\u001b[39m(\u001b[38;5;124m'\u001b[39m\u001b[38;5;124mAAFG\u001b[39m\u001b[38;5;124m'\u001b[39m, \u001b[38;5;241m16\u001b[39m)) \u001b[38;5;66;03m# 16진법에 G가 들어갈 수 없음\u001b[39;00m\n",
      "\u001b[0;31mValueError\u001b[0m: invalid literal for int() with base 2: '1002'"
     ]
    }
   ],
   "source": [
    "#13번\n",
    "print(int('1002', 2)) # 2진법에 2가 들어갈 수 없음\n",
    "print(int('1008', 8)) # 8진법에 8이 들어갈 수 없음\n",
    "print(int('AAFG', 16)) # 16진법에 G가 들어갈 수 없음"
   ]
  },
  {
   "cell_type": "code",
   "execution_count": 7,
   "id": "03104f52-98bf-4c86-92c4-be4f3a32370d",
   "metadata": {},
   "outputs": [
    {
     "name": "stdout",
     "output_type": "stream",
     "text": [
      "10진수 ==> 12345678\n",
      "16진수 ==> 0xbc614e\n",
      " 8진수 ==> 0o57060516\n",
      " 2진수 ==> 0b101111000110000101001110\n"
     ]
    }
   ],
   "source": [
    "#15번\n",
    "num = 12345678\n",
    "hex_num = hex(num)\n",
    "oct_num = oct(num)\n",
    "bin_num = bin(num)\n",
    "\n",
    "print('10진수 ==>', num)\n",
    "print('16진수 ==>', hex_num)\n",
    "print(' 8진수 ==>', oct_num)\n",
    "print(' 2진수 ==>', bin_num)"
   ]
  },
  {
   "cell_type": "code",
   "execution_count": null,
   "id": "e6ce8921-0ced-40d7-9bb3-16563db5a87c",
   "metadata": {},
   "outputs": [],
   "source": []
  }
 ],
 "metadata": {
  "kernelspec": {
   "display_name": "Python 3 (ipykernel)",
   "language": "python",
   "name": "python3"
  },
  "language_info": {
   "codemirror_mode": {
    "name": "ipython",
    "version": 3
   },
   "file_extension": ".py",
   "mimetype": "text/x-python",
   "name": "python",
   "nbconvert_exporter": "python",
   "pygments_lexer": "ipython3",
   "version": "3.9.17"
  }
 },
 "nbformat": 4,
 "nbformat_minor": 5
}
